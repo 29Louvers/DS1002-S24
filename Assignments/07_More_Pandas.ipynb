{
  "nbformat": 4,
  "nbformat_minor": 0,
  "metadata": {
    "colab": {
      "provenance": [],
      "toc_visible": true,
      "include_colab_link": true
    },
    "kernelspec": {
      "name": "python3",
      "display_name": "Python 3"
    },
    "language_info": {
      "name": "python"
    }
  },
  "cells": [
    {
      "cell_type": "markdown",
      "metadata": {
        "id": "view-in-github",
        "colab_type": "text"
      },
      "source": [
        "<a href=\"https://colab.research.google.com/github/29Louvers/DS1002-S24/blob/main/Assignments/07_More_Pandas.ipynb\" target=\"_parent\"><img src=\"https://colab.research.google.com/assets/colab-badge.svg\" alt=\"Open In Colab\"/></a>"
      ]
    },
    {
      "cell_type": "markdown",
      "source": [
        "# More pandas exercises\n",
        "\n",
        "Create a Colab notebook. Complete the tasks as specified in the directions. Run each cell to return the desired output. Save your notebook back to your GitHub repository and submit the GitHub URL for your notebook for review."
      ],
      "metadata": {
        "id": "phbaQTT5gy8A"
      }
    },
    {
      "cell_type": "markdown",
      "source": [
        "1.  Load the following dataset into Colab and perform the requested operations in code.\n",
        "\n",
        " Source: https://ds1002-resources.s3.amazonaws.com/data/ride_sharing.csv"
      ],
      "metadata": {
        "id": "WlPHuSLARJBJ"
      }
    },
    {
      "cell_type": "code",
      "source": [
        "# Load pandas and the data\n",
        "import pandas as pd"
      ],
      "metadata": {
        "id": "kdFLCHtOg53p"
      },
      "execution_count": 8,
      "outputs": []
    },
    {
      "cell_type": "code",
      "source": [
        "path=\"/content/ride_sharing.csv\"\n"
      ],
      "metadata": {
        "id": "kiMIbex4_cEd"
      },
      "execution_count": 29,
      "outputs": []
    },
    {
      "cell_type": "code",
      "source": [
        "df = pd.read_csv(path)\n",
        "df.head()"
      ],
      "metadata": {
        "colab": {
          "base_uri": "https://localhost:8080/",
          "height": 365
        },
        "id": "ns3I3iuDFzU5",
        "outputId": "84643209-6fd8-424d-a005-bd2d4da01678"
      },
      "execution_count": 28,
      "outputs": [
        {
          "output_type": "execute_result",
          "data": {
            "text/plain": [
              "     duration  station_A_id  \\\n",
              "0  12 minutes            81   \n",
              "1  24 minutes             3   \n",
              "2   8 minutes            67   \n",
              "3   4 minutes            16   \n",
              "4  11 minutes            22   \n",
              "\n",
              "                                      station_A_name  station_B_id  \\\n",
              "0                                 Berry St at 4th St           323   \n",
              "1       Powell St BART Station (Market St at 4th St)           118   \n",
              "2  San Francisco Caltrain Station 2  (Townsend St...            23   \n",
              "3                            Steuart St at Market St            28   \n",
              "4                              Howard St at Beale St           350   \n",
              "\n",
              "                    station_B_name  bike_id  user_type  user_birth_year  \\\n",
              "0               Broadway at Kearny     5480          2             1959   \n",
              "1  Eureka Valley Recreation Center     5193          2             1965   \n",
              "2    The Embarcadero at Steuart St     3652          3             1993   \n",
              "3     The Embarcadero at Bryant St     1883          1             1979   \n",
              "4             8th St at Brannan St     4626          2             1994   \n",
              "\n",
              "  user_gender  tire_size  \n",
              "0        Male         26  \n",
              "1        Male         27  \n",
              "2        Male         29  \n",
              "3        Male         26  \n",
              "4        Male         27  "
            ],
            "text/html": [
              "\n",
              "  <div id=\"df-1891cd57-143e-4278-a911-fcb650dc9140\" class=\"colab-df-container\">\n",
              "    <div>\n",
              "<style scoped>\n",
              "    .dataframe tbody tr th:only-of-type {\n",
              "        vertical-align: middle;\n",
              "    }\n",
              "\n",
              "    .dataframe tbody tr th {\n",
              "        vertical-align: top;\n",
              "    }\n",
              "\n",
              "    .dataframe thead th {\n",
              "        text-align: right;\n",
              "    }\n",
              "</style>\n",
              "<table border=\"1\" class=\"dataframe\">\n",
              "  <thead>\n",
              "    <tr style=\"text-align: right;\">\n",
              "      <th></th>\n",
              "      <th>duration</th>\n",
              "      <th>station_A_id</th>\n",
              "      <th>station_A_name</th>\n",
              "      <th>station_B_id</th>\n",
              "      <th>station_B_name</th>\n",
              "      <th>bike_id</th>\n",
              "      <th>user_type</th>\n",
              "      <th>user_birth_year</th>\n",
              "      <th>user_gender</th>\n",
              "      <th>tire_size</th>\n",
              "    </tr>\n",
              "  </thead>\n",
              "  <tbody>\n",
              "    <tr>\n",
              "      <th>0</th>\n",
              "      <td>12 minutes</td>\n",
              "      <td>81</td>\n",
              "      <td>Berry St at 4th St</td>\n",
              "      <td>323</td>\n",
              "      <td>Broadway at Kearny</td>\n",
              "      <td>5480</td>\n",
              "      <td>2</td>\n",
              "      <td>1959</td>\n",
              "      <td>Male</td>\n",
              "      <td>26</td>\n",
              "    </tr>\n",
              "    <tr>\n",
              "      <th>1</th>\n",
              "      <td>24 minutes</td>\n",
              "      <td>3</td>\n",
              "      <td>Powell St BART Station (Market St at 4th St)</td>\n",
              "      <td>118</td>\n",
              "      <td>Eureka Valley Recreation Center</td>\n",
              "      <td>5193</td>\n",
              "      <td>2</td>\n",
              "      <td>1965</td>\n",
              "      <td>Male</td>\n",
              "      <td>27</td>\n",
              "    </tr>\n",
              "    <tr>\n",
              "      <th>2</th>\n",
              "      <td>8 minutes</td>\n",
              "      <td>67</td>\n",
              "      <td>San Francisco Caltrain Station 2  (Townsend St...</td>\n",
              "      <td>23</td>\n",
              "      <td>The Embarcadero at Steuart St</td>\n",
              "      <td>3652</td>\n",
              "      <td>3</td>\n",
              "      <td>1993</td>\n",
              "      <td>Male</td>\n",
              "      <td>29</td>\n",
              "    </tr>\n",
              "    <tr>\n",
              "      <th>3</th>\n",
              "      <td>4 minutes</td>\n",
              "      <td>16</td>\n",
              "      <td>Steuart St at Market St</td>\n",
              "      <td>28</td>\n",
              "      <td>The Embarcadero at Bryant St</td>\n",
              "      <td>1883</td>\n",
              "      <td>1</td>\n",
              "      <td>1979</td>\n",
              "      <td>Male</td>\n",
              "      <td>26</td>\n",
              "    </tr>\n",
              "    <tr>\n",
              "      <th>4</th>\n",
              "      <td>11 minutes</td>\n",
              "      <td>22</td>\n",
              "      <td>Howard St at Beale St</td>\n",
              "      <td>350</td>\n",
              "      <td>8th St at Brannan St</td>\n",
              "      <td>4626</td>\n",
              "      <td>2</td>\n",
              "      <td>1994</td>\n",
              "      <td>Male</td>\n",
              "      <td>27</td>\n",
              "    </tr>\n",
              "  </tbody>\n",
              "</table>\n",
              "</div>\n",
              "    <div class=\"colab-df-buttons\">\n",
              "\n",
              "  <div class=\"colab-df-container\">\n",
              "    <button class=\"colab-df-convert\" onclick=\"convertToInteractive('df-1891cd57-143e-4278-a911-fcb650dc9140')\"\n",
              "            title=\"Convert this dataframe to an interactive table.\"\n",
              "            style=\"display:none;\">\n",
              "\n",
              "  <svg xmlns=\"http://www.w3.org/2000/svg\" height=\"24px\" viewBox=\"0 -960 960 960\">\n",
              "    <path d=\"M120-120v-720h720v720H120Zm60-500h600v-160H180v160Zm220 220h160v-160H400v160Zm0 220h160v-160H400v160ZM180-400h160v-160H180v160Zm440 0h160v-160H620v160ZM180-180h160v-160H180v160Zm440 0h160v-160H620v160Z\"/>\n",
              "  </svg>\n",
              "    </button>\n",
              "\n",
              "  <style>\n",
              "    .colab-df-container {\n",
              "      display:flex;\n",
              "      gap: 12px;\n",
              "    }\n",
              "\n",
              "    .colab-df-convert {\n",
              "      background-color: #E8F0FE;\n",
              "      border: none;\n",
              "      border-radius: 50%;\n",
              "      cursor: pointer;\n",
              "      display: none;\n",
              "      fill: #1967D2;\n",
              "      height: 32px;\n",
              "      padding: 0 0 0 0;\n",
              "      width: 32px;\n",
              "    }\n",
              "\n",
              "    .colab-df-convert:hover {\n",
              "      background-color: #E2EBFA;\n",
              "      box-shadow: 0px 1px 2px rgba(60, 64, 67, 0.3), 0px 1px 3px 1px rgba(60, 64, 67, 0.15);\n",
              "      fill: #174EA6;\n",
              "    }\n",
              "\n",
              "    .colab-df-buttons div {\n",
              "      margin-bottom: 4px;\n",
              "    }\n",
              "\n",
              "    [theme=dark] .colab-df-convert {\n",
              "      background-color: #3B4455;\n",
              "      fill: #D2E3FC;\n",
              "    }\n",
              "\n",
              "    [theme=dark] .colab-df-convert:hover {\n",
              "      background-color: #434B5C;\n",
              "      box-shadow: 0px 1px 3px 1px rgba(0, 0, 0, 0.15);\n",
              "      filter: drop-shadow(0px 1px 2px rgba(0, 0, 0, 0.3));\n",
              "      fill: #FFFFFF;\n",
              "    }\n",
              "  </style>\n",
              "\n",
              "    <script>\n",
              "      const buttonEl =\n",
              "        document.querySelector('#df-1891cd57-143e-4278-a911-fcb650dc9140 button.colab-df-convert');\n",
              "      buttonEl.style.display =\n",
              "        google.colab.kernel.accessAllowed ? 'block' : 'none';\n",
              "\n",
              "      async function convertToInteractive(key) {\n",
              "        const element = document.querySelector('#df-1891cd57-143e-4278-a911-fcb650dc9140');\n",
              "        const dataTable =\n",
              "          await google.colab.kernel.invokeFunction('convertToInteractive',\n",
              "                                                    [key], {});\n",
              "        if (!dataTable) return;\n",
              "\n",
              "        const docLinkHtml = 'Like what you see? Visit the ' +\n",
              "          '<a target=\"_blank\" href=https://colab.research.google.com/notebooks/data_table.ipynb>data table notebook</a>'\n",
              "          + ' to learn more about interactive tables.';\n",
              "        element.innerHTML = '';\n",
              "        dataTable['output_type'] = 'display_data';\n",
              "        await google.colab.output.renderOutput(dataTable, element);\n",
              "        const docLink = document.createElement('div');\n",
              "        docLink.innerHTML = docLinkHtml;\n",
              "        element.appendChild(docLink);\n",
              "      }\n",
              "    </script>\n",
              "  </div>\n",
              "\n",
              "\n",
              "<div id=\"df-a70b10c2-b028-429b-8c3d-702e27ba79d7\">\n",
              "  <button class=\"colab-df-quickchart\" onclick=\"quickchart('df-a70b10c2-b028-429b-8c3d-702e27ba79d7')\"\n",
              "            title=\"Suggest charts\"\n",
              "            style=\"display:none;\">\n",
              "\n",
              "<svg xmlns=\"http://www.w3.org/2000/svg\" height=\"24px\"viewBox=\"0 0 24 24\"\n",
              "     width=\"24px\">\n",
              "    <g>\n",
              "        <path d=\"M19 3H5c-1.1 0-2 .9-2 2v14c0 1.1.9 2 2 2h14c1.1 0 2-.9 2-2V5c0-1.1-.9-2-2-2zM9 17H7v-7h2v7zm4 0h-2V7h2v10zm4 0h-2v-4h2v4z\"/>\n",
              "    </g>\n",
              "</svg>\n",
              "  </button>\n",
              "\n",
              "<style>\n",
              "  .colab-df-quickchart {\n",
              "      --bg-color: #E8F0FE;\n",
              "      --fill-color: #1967D2;\n",
              "      --hover-bg-color: #E2EBFA;\n",
              "      --hover-fill-color: #174EA6;\n",
              "      --disabled-fill-color: #AAA;\n",
              "      --disabled-bg-color: #DDD;\n",
              "  }\n",
              "\n",
              "  [theme=dark] .colab-df-quickchart {\n",
              "      --bg-color: #3B4455;\n",
              "      --fill-color: #D2E3FC;\n",
              "      --hover-bg-color: #434B5C;\n",
              "      --hover-fill-color: #FFFFFF;\n",
              "      --disabled-bg-color: #3B4455;\n",
              "      --disabled-fill-color: #666;\n",
              "  }\n",
              "\n",
              "  .colab-df-quickchart {\n",
              "    background-color: var(--bg-color);\n",
              "    border: none;\n",
              "    border-radius: 50%;\n",
              "    cursor: pointer;\n",
              "    display: none;\n",
              "    fill: var(--fill-color);\n",
              "    height: 32px;\n",
              "    padding: 0;\n",
              "    width: 32px;\n",
              "  }\n",
              "\n",
              "  .colab-df-quickchart:hover {\n",
              "    background-color: var(--hover-bg-color);\n",
              "    box-shadow: 0 1px 2px rgba(60, 64, 67, 0.3), 0 1px 3px 1px rgba(60, 64, 67, 0.15);\n",
              "    fill: var(--button-hover-fill-color);\n",
              "  }\n",
              "\n",
              "  .colab-df-quickchart-complete:disabled,\n",
              "  .colab-df-quickchart-complete:disabled:hover {\n",
              "    background-color: var(--disabled-bg-color);\n",
              "    fill: var(--disabled-fill-color);\n",
              "    box-shadow: none;\n",
              "  }\n",
              "\n",
              "  .colab-df-spinner {\n",
              "    border: 2px solid var(--fill-color);\n",
              "    border-color: transparent;\n",
              "    border-bottom-color: var(--fill-color);\n",
              "    animation:\n",
              "      spin 1s steps(1) infinite;\n",
              "  }\n",
              "\n",
              "  @keyframes spin {\n",
              "    0% {\n",
              "      border-color: transparent;\n",
              "      border-bottom-color: var(--fill-color);\n",
              "      border-left-color: var(--fill-color);\n",
              "    }\n",
              "    20% {\n",
              "      border-color: transparent;\n",
              "      border-left-color: var(--fill-color);\n",
              "      border-top-color: var(--fill-color);\n",
              "    }\n",
              "    30% {\n",
              "      border-color: transparent;\n",
              "      border-left-color: var(--fill-color);\n",
              "      border-top-color: var(--fill-color);\n",
              "      border-right-color: var(--fill-color);\n",
              "    }\n",
              "    40% {\n",
              "      border-color: transparent;\n",
              "      border-right-color: var(--fill-color);\n",
              "      border-top-color: var(--fill-color);\n",
              "    }\n",
              "    60% {\n",
              "      border-color: transparent;\n",
              "      border-right-color: var(--fill-color);\n",
              "    }\n",
              "    80% {\n",
              "      border-color: transparent;\n",
              "      border-right-color: var(--fill-color);\n",
              "      border-bottom-color: var(--fill-color);\n",
              "    }\n",
              "    90% {\n",
              "      border-color: transparent;\n",
              "      border-bottom-color: var(--fill-color);\n",
              "    }\n",
              "  }\n",
              "</style>\n",
              "\n",
              "  <script>\n",
              "    async function quickchart(key) {\n",
              "      const quickchartButtonEl =\n",
              "        document.querySelector('#' + key + ' button');\n",
              "      quickchartButtonEl.disabled = true;  // To prevent multiple clicks.\n",
              "      quickchartButtonEl.classList.add('colab-df-spinner');\n",
              "      try {\n",
              "        const charts = await google.colab.kernel.invokeFunction(\n",
              "            'suggestCharts', [key], {});\n",
              "      } catch (error) {\n",
              "        console.error('Error during call to suggestCharts:', error);\n",
              "      }\n",
              "      quickchartButtonEl.classList.remove('colab-df-spinner');\n",
              "      quickchartButtonEl.classList.add('colab-df-quickchart-complete');\n",
              "    }\n",
              "    (() => {\n",
              "      let quickchartButtonEl =\n",
              "        document.querySelector('#df-a70b10c2-b028-429b-8c3d-702e27ba79d7 button');\n",
              "      quickchartButtonEl.style.display =\n",
              "        google.colab.kernel.accessAllowed ? 'block' : 'none';\n",
              "    })();\n",
              "  </script>\n",
              "</div>\n",
              "\n",
              "    </div>\n",
              "  </div>\n"
            ],
            "application/vnd.google.colaboratory.intrinsic+json": {
              "type": "dataframe",
              "variable_name": "df",
              "summary": "{\n  \"name\": \"df\",\n  \"rows\": 25760,\n  \"fields\": [\n    {\n      \"column\": \"duration\",\n      \"properties\": {\n        \"dtype\": \"category\",\n        \"num_unique_values\": 172,\n        \"samples\": [\n          \"103 minutes\",\n          \"142 minutes\",\n          \"180 minutes\"\n        ],\n        \"semantic_type\": \"\",\n        \"description\": \"\"\n      }\n    },\n    {\n      \"column\": \"station_A_id\",\n      \"properties\": {\n        \"dtype\": \"number\",\n        \"std\": 26,\n        \"min\": 3,\n        \"max\": 81,\n        \"num_unique_values\": 9,\n        \"samples\": [\n          21,\n          3,\n          30\n        ],\n        \"semantic_type\": \"\",\n        \"description\": \"\"\n      }\n    },\n    {\n      \"column\": \"station_A_name\",\n      \"properties\": {\n        \"dtype\": \"category\",\n        \"num_unique_values\": 9,\n        \"samples\": [\n          \"Montgomery St BART Station (Market St at 2nd St)\",\n          \"Powell St BART Station (Market St at 4th St)\",\n          \"San Francisco Caltrain (Townsend St at 4th St)\"\n        ],\n        \"semantic_type\": \"\",\n        \"description\": \"\"\n      }\n    },\n    {\n      \"column\": \"station_B_id\",\n      \"properties\": {\n        \"dtype\": \"number\",\n        \"std\": 105,\n        \"min\": 3,\n        \"max\": 383,\n        \"num_unique_values\": 152,\n        \"samples\": [\n          37,\n          147,\n          375\n        ],\n        \"semantic_type\": \"\",\n        \"description\": \"\"\n      }\n    },\n    {\n      \"column\": \"station_B_name\",\n      \"properties\": {\n        \"dtype\": \"category\",\n        \"num_unique_values\": 152,\n        \"samples\": [\n          \"2nd St at Folsom St\",\n          \"29th St at Tiffany Ave\",\n          \"Grove St at Masonic Ave\"\n        ],\n        \"semantic_type\": \"\",\n        \"description\": \"\"\n      }\n    },\n    {\n      \"column\": \"bike_id\",\n      \"properties\": {\n        \"dtype\": \"number\",\n        \"std\": 1576,\n        \"min\": 11,\n        \"max\": 6638,\n        \"num_unique_values\": 1805,\n        \"samples\": [\n          861,\n          465,\n          1768\n        ],\n        \"semantic_type\": \"\",\n        \"description\": \"\"\n      }\n    },\n    {\n      \"column\": \"user_type\",\n      \"properties\": {\n        \"dtype\": \"number\",\n        \"std\": 0,\n        \"min\": 1,\n        \"max\": 3,\n        \"num_unique_values\": 3,\n        \"samples\": [\n          2,\n          3,\n          1\n        ],\n        \"semantic_type\": \"\",\n        \"description\": \"\"\n      }\n    },\n    {\n      \"column\": \"user_birth_year\",\n      \"properties\": {\n        \"dtype\": \"number\",\n        \"std\": 10,\n        \"min\": 1901,\n        \"max\": 2001,\n        \"num_unique_values\": 63,\n        \"samples\": [\n          1939,\n          1901,\n          1959\n        ],\n        \"semantic_type\": \"\",\n        \"description\": \"\"\n      }\n    },\n    {\n      \"column\": \"user_gender\",\n      \"properties\": {\n        \"dtype\": \"category\",\n        \"num_unique_values\": 3,\n        \"samples\": [\n          \"Male\",\n          \"Female\",\n          \"Other\"\n        ],\n        \"semantic_type\": \"\",\n        \"description\": \"\"\n      }\n    },\n    {\n      \"column\": \"tire_size\",\n      \"properties\": {\n        \"dtype\": \"number\",\n        \"std\": 1,\n        \"min\": 26,\n        \"max\": 29,\n        \"num_unique_values\": 3,\n        \"samples\": [\n          26,\n          27,\n          29\n        ],\n        \"semantic_type\": \"\",\n        \"description\": \"\"\n      }\n    }\n  ]\n}"
            }
          },
          "metadata": {},
          "execution_count": 28
        }
      ]
    },
    {
      "cell_type": "code",
      "source": [
        "# show how many rows and columns are in this dataset\n",
        "# df=read_csv(path)\n",
        "\n",
        "rows = len(df.axes[0])\n",
        "cols = len(df.axes[1])\n",
        "# print(df)\n",
        "print(\"Number of Rows \", rows)\n",
        "print(\"Number of Columns \", cols)"
      ],
      "metadata": {
        "id": "Lfh8suAyhKQW",
        "colab": {
          "base_uri": "https://localhost:8080/"
        },
        "outputId": "c31e82d7-0951-4c98-e548-578114fecdec"
      },
      "execution_count": 37,
      "outputs": [
        {
          "output_type": "stream",
          "name": "stdout",
          "text": [
            "Number of Rows  25760\n",
            "Number of Columns  10\n"
          ]
        }
      ]
    },
    {
      "cell_type": "markdown",
      "source": [],
      "metadata": {
        "id": "dS0aC_a4GVDq"
      }
    },
    {
      "cell_type": "code",
      "source": [
        "# The first column, \"duration\" is seen as a string.\n",
        "# df.apply(pd_to_numeric())\n",
        "# Using two snippets of code, clean this column up so that\n",
        "# is now an integer (int64)\n",
        "# df['duration'] = df['duration'].astype(int)\n",
        "df = df[pd.to_numeric(df['duration'], errors='coerce').notnull()]\n",
        "# df['duration'] = pd.to_numeric(df['duration'], errors='coerce').astype(int)"
      ],
      "metadata": {
        "id": "KK5-y9nzhMVq"
      },
      "execution_count": 45,
      "outputs": []
    },
    {
      "cell_type": "code",
      "source": [
        "# Now display the datatypes in the updated dataframe\n",
        "print(df)"
      ],
      "metadata": {
        "id": "QyGJUshvhz1J",
        "colab": {
          "base_uri": "https://localhost:8080/"
        },
        "outputId": "fc8a83ef-3f59-4cc9-d928-b2f5c9b70208"
      },
      "execution_count": 46,
      "outputs": [
        {
          "output_type": "stream",
          "name": "stdout",
          "text": [
            "Empty DataFrame\n",
            "Columns: [duration, station_A_id, station_A_name, station_B_id, station_B_name, bike_id, user_type, user_birth_year, user_gender, tire_size]\n",
            "Index: []\n"
          ]
        }
      ]
    },
    {
      "cell_type": "code",
      "source": [
        "# Show the min and max values of ride durations (the shortest and longest rides)\n",
        "min_value = df['Number of Rows'].min()\n",
        "max_value = df['Number of Columns'].max()\n",
        "# Hint: If 'df' is the name of your dataframe, simply specify the column name\n",
        "# and then append the .min() or .max() methods.\n",
        "# print(\"Minimum value in column 'duration':\", min_value)\n",
        "# print(\"Maximum value in column 'duration':\", max_value)"
      ],
      "metadata": {
        "id": "UCA1OswWh5b5",
        "colab": {
          "base_uri": "https://localhost:8080/",
          "height": 586
        },
        "outputId": "464c3f49-ec44-4e07-bbe4-c297e8db9268"
      },
      "execution_count": 47,
      "outputs": [
        {
          "output_type": "error",
          "ename": "KeyError",
          "evalue": "'Number of Rows'",
          "traceback": [
            "\u001b[0;31m---------------------------------------------------------------------------\u001b[0m",
            "\u001b[0;31mKeyError\u001b[0m                                  Traceback (most recent call last)",
            "\u001b[0;32m/usr/local/lib/python3.10/dist-packages/pandas/core/indexes/base.py\u001b[0m in \u001b[0;36mget_loc\u001b[0;34m(self, key, method, tolerance)\u001b[0m\n\u001b[1;32m   3801\u001b[0m             \u001b[0;32mtry\u001b[0m\u001b[0;34m:\u001b[0m\u001b[0;34m\u001b[0m\u001b[0;34m\u001b[0m\u001b[0m\n\u001b[0;32m-> 3802\u001b[0;31m                 \u001b[0;32mreturn\u001b[0m \u001b[0mself\u001b[0m\u001b[0;34m.\u001b[0m\u001b[0m_engine\u001b[0m\u001b[0;34m.\u001b[0m\u001b[0mget_loc\u001b[0m\u001b[0;34m(\u001b[0m\u001b[0mcasted_key\u001b[0m\u001b[0;34m)\u001b[0m\u001b[0;34m\u001b[0m\u001b[0;34m\u001b[0m\u001b[0m\n\u001b[0m\u001b[1;32m   3803\u001b[0m             \u001b[0;32mexcept\u001b[0m \u001b[0mKeyError\u001b[0m \u001b[0;32mas\u001b[0m \u001b[0merr\u001b[0m\u001b[0;34m:\u001b[0m\u001b[0;34m\u001b[0m\u001b[0;34m\u001b[0m\u001b[0m\n",
            "\u001b[0;32m/usr/local/lib/python3.10/dist-packages/pandas/_libs/index.pyx\u001b[0m in \u001b[0;36mpandas._libs.index.IndexEngine.get_loc\u001b[0;34m()\u001b[0m\n",
            "\u001b[0;32m/usr/local/lib/python3.10/dist-packages/pandas/_libs/index.pyx\u001b[0m in \u001b[0;36mpandas._libs.index.IndexEngine.get_loc\u001b[0;34m()\u001b[0m\n",
            "\u001b[0;32mpandas/_libs/hashtable_class_helper.pxi\u001b[0m in \u001b[0;36mpandas._libs.hashtable.PyObjectHashTable.get_item\u001b[0;34m()\u001b[0m\n",
            "\u001b[0;32mpandas/_libs/hashtable_class_helper.pxi\u001b[0m in \u001b[0;36mpandas._libs.hashtable.PyObjectHashTable.get_item\u001b[0;34m()\u001b[0m\n",
            "\u001b[0;31mKeyError\u001b[0m: 'Number of Rows'",
            "\nThe above exception was the direct cause of the following exception:\n",
            "\u001b[0;31mKeyError\u001b[0m                                  Traceback (most recent call last)",
            "\u001b[0;32m<ipython-input-47-4575e4b278b2>\u001b[0m in \u001b[0;36m<cell line: 2>\u001b[0;34m()\u001b[0m\n\u001b[1;32m      1\u001b[0m \u001b[0;31m# Show the min and max values of ride durations (the shortest and longest rides)\u001b[0m\u001b[0;34m\u001b[0m\u001b[0;34m\u001b[0m\u001b[0m\n\u001b[0;32m----> 2\u001b[0;31m \u001b[0mmin_value\u001b[0m \u001b[0;34m=\u001b[0m \u001b[0mdf\u001b[0m\u001b[0;34m[\u001b[0m\u001b[0;34m'Number of Rows'\u001b[0m\u001b[0;34m]\u001b[0m\u001b[0;34m.\u001b[0m\u001b[0mmin\u001b[0m\u001b[0;34m(\u001b[0m\u001b[0;34m)\u001b[0m\u001b[0;34m\u001b[0m\u001b[0;34m\u001b[0m\u001b[0m\n\u001b[0m\u001b[1;32m      3\u001b[0m \u001b[0mmax_value\u001b[0m \u001b[0;34m=\u001b[0m \u001b[0mdf\u001b[0m\u001b[0;34m[\u001b[0m\u001b[0;34m'Number of Columns'\u001b[0m\u001b[0;34m]\u001b[0m\u001b[0;34m.\u001b[0m\u001b[0mmax\u001b[0m\u001b[0;34m(\u001b[0m\u001b[0;34m)\u001b[0m\u001b[0;34m\u001b[0m\u001b[0;34m\u001b[0m\u001b[0m\n\u001b[1;32m      4\u001b[0m \u001b[0;31m# Hint: If 'df' is the name of your dataframe, simply specify the column name\u001b[0m\u001b[0;34m\u001b[0m\u001b[0;34m\u001b[0m\u001b[0m\n\u001b[1;32m      5\u001b[0m \u001b[0;31m# and then append the .min() or .max() methods.\u001b[0m\u001b[0;34m\u001b[0m\u001b[0;34m\u001b[0m\u001b[0m\n",
            "\u001b[0;32m/usr/local/lib/python3.10/dist-packages/pandas/core/frame.py\u001b[0m in \u001b[0;36m__getitem__\u001b[0;34m(self, key)\u001b[0m\n\u001b[1;32m   3805\u001b[0m             \u001b[0;32mif\u001b[0m \u001b[0mself\u001b[0m\u001b[0;34m.\u001b[0m\u001b[0mcolumns\u001b[0m\u001b[0;34m.\u001b[0m\u001b[0mnlevels\u001b[0m \u001b[0;34m>\u001b[0m \u001b[0;36m1\u001b[0m\u001b[0;34m:\u001b[0m\u001b[0;34m\u001b[0m\u001b[0;34m\u001b[0m\u001b[0m\n\u001b[1;32m   3806\u001b[0m                 \u001b[0;32mreturn\u001b[0m \u001b[0mself\u001b[0m\u001b[0;34m.\u001b[0m\u001b[0m_getitem_multilevel\u001b[0m\u001b[0;34m(\u001b[0m\u001b[0mkey\u001b[0m\u001b[0;34m)\u001b[0m\u001b[0;34m\u001b[0m\u001b[0;34m\u001b[0m\u001b[0m\n\u001b[0;32m-> 3807\u001b[0;31m             \u001b[0mindexer\u001b[0m \u001b[0;34m=\u001b[0m \u001b[0mself\u001b[0m\u001b[0;34m.\u001b[0m\u001b[0mcolumns\u001b[0m\u001b[0;34m.\u001b[0m\u001b[0mget_loc\u001b[0m\u001b[0;34m(\u001b[0m\u001b[0mkey\u001b[0m\u001b[0;34m)\u001b[0m\u001b[0;34m\u001b[0m\u001b[0;34m\u001b[0m\u001b[0m\n\u001b[0m\u001b[1;32m   3808\u001b[0m             \u001b[0;32mif\u001b[0m \u001b[0mis_integer\u001b[0m\u001b[0;34m(\u001b[0m\u001b[0mindexer\u001b[0m\u001b[0;34m)\u001b[0m\u001b[0;34m:\u001b[0m\u001b[0;34m\u001b[0m\u001b[0;34m\u001b[0m\u001b[0m\n\u001b[1;32m   3809\u001b[0m                 \u001b[0mindexer\u001b[0m \u001b[0;34m=\u001b[0m \u001b[0;34m[\u001b[0m\u001b[0mindexer\u001b[0m\u001b[0;34m]\u001b[0m\u001b[0;34m\u001b[0m\u001b[0;34m\u001b[0m\u001b[0m\n",
            "\u001b[0;32m/usr/local/lib/python3.10/dist-packages/pandas/core/indexes/base.py\u001b[0m in \u001b[0;36mget_loc\u001b[0;34m(self, key, method, tolerance)\u001b[0m\n\u001b[1;32m   3802\u001b[0m                 \u001b[0;32mreturn\u001b[0m \u001b[0mself\u001b[0m\u001b[0;34m.\u001b[0m\u001b[0m_engine\u001b[0m\u001b[0;34m.\u001b[0m\u001b[0mget_loc\u001b[0m\u001b[0;34m(\u001b[0m\u001b[0mcasted_key\u001b[0m\u001b[0;34m)\u001b[0m\u001b[0;34m\u001b[0m\u001b[0;34m\u001b[0m\u001b[0m\n\u001b[1;32m   3803\u001b[0m             \u001b[0;32mexcept\u001b[0m \u001b[0mKeyError\u001b[0m \u001b[0;32mas\u001b[0m \u001b[0merr\u001b[0m\u001b[0;34m:\u001b[0m\u001b[0;34m\u001b[0m\u001b[0;34m\u001b[0m\u001b[0m\n\u001b[0;32m-> 3804\u001b[0;31m                 \u001b[0;32mraise\u001b[0m \u001b[0mKeyError\u001b[0m\u001b[0;34m(\u001b[0m\u001b[0mkey\u001b[0m\u001b[0;34m)\u001b[0m \u001b[0;32mfrom\u001b[0m \u001b[0merr\u001b[0m\u001b[0;34m\u001b[0m\u001b[0;34m\u001b[0m\u001b[0m\n\u001b[0m\u001b[1;32m   3805\u001b[0m             \u001b[0;32mexcept\u001b[0m \u001b[0mTypeError\u001b[0m\u001b[0;34m:\u001b[0m\u001b[0;34m\u001b[0m\u001b[0;34m\u001b[0m\u001b[0m\n\u001b[1;32m   3806\u001b[0m                 \u001b[0;31m# If we have a listlike key, _check_indexing_error will raise\u001b[0m\u001b[0;34m\u001b[0m\u001b[0;34m\u001b[0m\u001b[0m\n",
            "\u001b[0;31mKeyError\u001b[0m: 'Number of Rows'"
          ]
        }
      ]
    },
    {
      "cell_type": "code",
      "source": [
        "# Create a new dataframe object and populate it with rides that are 60 minutes or less.\n",
        "# limited_df = df.query('duration > 60 and Number_of_Rows < 0')\n",
        "# limited_df = df.query('A > 60 and B < 0')\n",
        "print(\"A\" in df.columns)\n",
        "limited_df = df.query('duration > 60 and Number of Rows < 0')\n",
        "\n",
        "#\n",
        "# print(limited_df)\n",
        "# Hint: Use the .query() method for the dataframe that we used in class.\n",
        "\n",
        "pass\n",
        "pass"
      ],
      "metadata": {
        "id": "K7mStv5kibbA",
        "colab": {
          "base_uri": "https://localhost:8080/",
          "height": 996
        },
        "outputId": "467a049f-4458-4f95-db5c-543ca8e45d67"
      },
      "execution_count": 54,
      "outputs": [
        {
          "output_type": "stream",
          "name": "stdout",
          "text": [
            "False\n"
          ]
        },
        {
          "output_type": "error",
          "ename": "SyntaxError",
          "evalue": "Python keyword not valid identifier in numexpr query (<unknown>, line 1)",
          "traceback": [
            "Traceback \u001b[0;36m(most recent call last)\u001b[0m:\n",
            "  File \u001b[1;32m\"/usr/local/lib/python3.10/dist-packages/IPython/core/interactiveshell.py\"\u001b[0m, line \u001b[1;32m3553\u001b[0m, in \u001b[1;35mrun_code\u001b[0m\n    exec(code_obj, self.user_global_ns, self.user_ns)\n",
            "  File \u001b[1;32m\"<ipython-input-54-e566a46e46c9>\"\u001b[0m, line \u001b[1;32m5\u001b[0m, in \u001b[1;35m<cell line: 5>\u001b[0m\n    limited_df = df.query('duration > 60 and Number of Rows < 0')\n",
            "  File \u001b[1;32m\"/usr/local/lib/python3.10/dist-packages/pandas/util/_decorators.py\"\u001b[0m, line \u001b[1;32m331\u001b[0m, in \u001b[1;35mwrapper\u001b[0m\n    return func(*args, **kwargs)\n",
            "  File \u001b[1;32m\"/usr/local/lib/python3.10/dist-packages/pandas/core/frame.py\"\u001b[0m, line \u001b[1;32m4474\u001b[0m, in \u001b[1;35mquery\u001b[0m\n    res = self.eval(expr, **kwargs)\n",
            "  File \u001b[1;32m\"/usr/local/lib/python3.10/dist-packages/pandas/util/_decorators.py\"\u001b[0m, line \u001b[1;32m331\u001b[0m, in \u001b[1;35mwrapper\u001b[0m\n    return func(*args, **kwargs)\n",
            "  File \u001b[1;32m\"/usr/local/lib/python3.10/dist-packages/pandas/core/frame.py\"\u001b[0m, line \u001b[1;32m4612\u001b[0m, in \u001b[1;35meval\u001b[0m\n    return _eval(expr, inplace=inplace, **kwargs)\n",
            "  File \u001b[1;32m\"/usr/local/lib/python3.10/dist-packages/pandas/core/computation/eval.py\"\u001b[0m, line \u001b[1;32m353\u001b[0m, in \u001b[1;35meval\u001b[0m\n    parsed_expr = Expr(expr, engine=engine, parser=parser, env=env)\n",
            "  File \u001b[1;32m\"/usr/local/lib/python3.10/dist-packages/pandas/core/computation/expr.py\"\u001b[0m, line \u001b[1;32m813\u001b[0m, in \u001b[1;35m__init__\u001b[0m\n    self.terms = self.parse()\n",
            "  File \u001b[1;32m\"/usr/local/lib/python3.10/dist-packages/pandas/core/computation/expr.py\"\u001b[0m, line \u001b[1;32m832\u001b[0m, in \u001b[1;35mparse\u001b[0m\n    return self._visitor.visit(self.expr)\n",
            "  File \u001b[1;32m\"/usr/local/lib/python3.10/dist-packages/pandas/core/computation/expr.py\"\u001b[0m, line \u001b[1;32m411\u001b[0m, in \u001b[1;35mvisit\u001b[0m\n    raise e\n",
            "  File \u001b[1;32m\"/usr/local/lib/python3.10/dist-packages/pandas/core/computation/expr.py\"\u001b[0m, line \u001b[1;32m407\u001b[0m, in \u001b[1;35mvisit\u001b[0m\n    node = ast.fix_missing_locations(ast.parse(clean))\n",
            "\u001b[0;36m  File \u001b[0;32m\"/usr/lib/python3.10/ast.py\"\u001b[0;36m, line \u001b[0;32m50\u001b[0;36m, in \u001b[0;35mparse\u001b[0;36m\u001b[0m\n\u001b[0;31m    return compile(source, filename, mode, flags,\u001b[0m\n",
            "\u001b[0;36m  File \u001b[0;32m\"<unknown>\"\u001b[0;36m, line \u001b[0;32m1\u001b[0m\n\u001b[0;31m    duration >60 and Number of Rows <0\u001b[0m\n\u001b[0m                            ^\u001b[0m\n\u001b[0;31mSyntaxError\u001b[0m\u001b[0;31m:\u001b[0m Python keyword not valid identifier in numexpr query\n"
          ]
        }
      ]
    },
    {
      "cell_type": "code",
      "source": [
        "# Now show both the min and max values of the duration column for your new dataset.\n",
        "min_values = df.min()\n",
        "max_values = df.max()\n",
        "\n",
        "int(\"Minimum values:\")\n",
        "print(min_values)\n",
        "\n",
        "print(\"\\nMaximum values:\")\n",
        "print(max_values)"
      ],
      "metadata": {
        "id": "v63UdQjNi-w5",
        "colab": {
          "base_uri": "https://localhost:8080/",
          "height": 218
        },
        "outputId": "815bedc3-afb2-42db-e9d9-6f7fdc80ce7e"
      },
      "execution_count": 35,
      "outputs": [
        {
          "output_type": "error",
          "ename": "ValueError",
          "evalue": "invalid literal for int() with base 10: 'Minimum values:'",
          "traceback": [
            "\u001b[0;31m---------------------------------------------------------------------------\u001b[0m",
            "\u001b[0;31mValueError\u001b[0m                                Traceback (most recent call last)",
            "\u001b[0;32m<ipython-input-35-5950d2daf7eb>\u001b[0m in \u001b[0;36m<cell line: 5>\u001b[0;34m()\u001b[0m\n\u001b[1;32m      3\u001b[0m \u001b[0mmax_values\u001b[0m \u001b[0;34m=\u001b[0m \u001b[0mdf\u001b[0m\u001b[0;34m.\u001b[0m\u001b[0mmax\u001b[0m\u001b[0;34m(\u001b[0m\u001b[0;34m)\u001b[0m\u001b[0;34m\u001b[0m\u001b[0;34m\u001b[0m\u001b[0m\n\u001b[1;32m      4\u001b[0m \u001b[0;34m\u001b[0m\u001b[0m\n\u001b[0;32m----> 5\u001b[0;31m \u001b[0mint\u001b[0m\u001b[0;34m(\u001b[0m\u001b[0;34m\"Minimum values:\"\u001b[0m\u001b[0;34m)\u001b[0m\u001b[0;34m\u001b[0m\u001b[0;34m\u001b[0m\u001b[0m\n\u001b[0m\u001b[1;32m      6\u001b[0m \u001b[0mprint\u001b[0m\u001b[0;34m(\u001b[0m\u001b[0mmin_values\u001b[0m\u001b[0;34m)\u001b[0m\u001b[0;34m\u001b[0m\u001b[0;34m\u001b[0m\u001b[0m\n\u001b[1;32m      7\u001b[0m \u001b[0;34m\u001b[0m\u001b[0m\n",
            "\u001b[0;31mValueError\u001b[0m: invalid literal for int() with base 10: 'Minimum values:'"
          ]
        }
      ]
    },
    {
      "cell_type": "code",
      "source": [
        "# Using the new dataframe, update it so that is ONLY has records where\n",
        "# the tire_size is 26.\n"
      ],
      "metadata": {
        "id": "xTzb_j9rjGk2"
      },
      "execution_count": null,
      "outputs": []
    },
    {
      "cell_type": "code",
      "source": [
        "# Finally, produce a count of all records with FEMALE riders\n",
        "# using the 26-inch wheeled rental bikes for their rentals of\n",
        "# one hour or less.\n"
      ],
      "metadata": {
        "id": "0cwbfj66jrG9"
      },
      "execution_count": null,
      "outputs": []
    },
    {
      "cell_type": "markdown",
      "source": [
        "2. Find the file `more-messy-data.csv` on GitHub and upload it into Google Colab.\n",
        "\n",
        "Create a new Pandas DataFrame from that data and perform the following steps."
      ],
      "metadata": {
        "id": "YIlxzTRQSrl3"
      }
    },
    {
      "cell_type": "code",
      "source": [
        "# Write a snippet of code that will display the number of duplicate rows exist in the DF.\n"
      ],
      "metadata": {
        "id": "6O1caoy6S82Q"
      },
      "execution_count": null,
      "outputs": []
    },
    {
      "cell_type": "code",
      "source": [
        "# Next, remove all duplicate rows using Python.\n"
      ],
      "metadata": {
        "id": "-pDZ2xA-S8vd"
      },
      "execution_count": null,
      "outputs": []
    },
    {
      "cell_type": "code",
      "source": [
        "# For the FOUR columns involving sepal and petal length and width, update all NaN\n",
        "# values with the column mean.\n"
      ],
      "metadata": {
        "id": "Quf-P7L4S8oh"
      },
      "execution_count": null,
      "outputs": []
    },
    {
      "cell_type": "code",
      "source": [
        "# Find any values in the dataframe that are still missing, and delete them.\n"
      ],
      "metadata": {
        "id": "en_ReYsAS8f-"
      },
      "execution_count": null,
      "outputs": []
    },
    {
      "cell_type": "code",
      "source": [
        "# How many different species are there?\n"
      ],
      "metadata": {
        "id": "uqV9IHwDS75a"
      },
      "execution_count": null,
      "outputs": []
    },
    {
      "cell_type": "code",
      "source": [
        "# Clean up the 'species' variable so that there are exactly three different values.\n"
      ],
      "metadata": {
        "id": "G2j8HDgYT52P"
      },
      "execution_count": null,
      "outputs": []
    },
    {
      "cell_type": "markdown",
      "source": [
        "3. Bonus:  Regular expressions\n",
        "\n",
        "Ordinary (non-vanity) Virginia license plates have the form `ABC1234`, meaning they have three upper case letters followed by four digits.  Write a regular expression that matches any string of this form (and doesn't match anything else).  Test your expression with code to make sure it works.\n",
        "\n",
        "To figure out out how to do this, start with the sample code below.  The `re` package has various functions related to regular expressions, including for example `match()`, which takes two arguments, first the regular expression and second the test string, and tests to see whether the *beginning* of the `test` string matches the pattern `exp`.\n",
        "\n",
        "Note that `re.match(exp,test)` does not return a boolean variable, as you might expect (in other words, a match doesn't return `True` and a non-match `False`).  The type of object you get is called `re.Match`, which is a data type special to the `re` package.  (The reason for this is that the object contains more information than just whether there is a match or not.) However, you can turn it into a boolean using `bool()` if you want.\n",
        "\n",
        "Include the following in the notebook you submit:\n",
        "\n",
        " 1. A regular expression in a text chunk\n",
        " 2. One or more code chunks in which you test several strings to verify that your regex is correct.\n",
        " 3. Make sure you display the results of testing various strings.\n",
        "\n",
        " See this [documentation page](https://docs.python.org/3/howto/regex.html#regex-howto) for further help."
      ],
      "metadata": {
        "id": "CsMBqFDmX7Ax"
      }
    },
    {
      "cell_type": "code",
      "source": [
        "# Sample code for testing whether a string matches a regex\n",
        "\n",
        "# First import this package for working with regular expressions\n",
        "import re\n",
        "\n",
        "# Here is an example.\n",
        "# Play around with different expressions and test strings to see what happens.\n",
        "exp = 'ab+'\n",
        "test = 'aabbbc'\n",
        "\n",
        "if re.match(exp,test):\n",
        "  print(\"match!\")\n",
        "else:\n",
        "  print(\"no match\")\n",
        "\n",
        "# uncomment this line if you want\n",
        "# print(type(re.match(exp,test)))\n",
        "\n",
        "# uncomment this line if you want\n",
        "# print(bool(re.match(exp,test)))"
      ],
      "metadata": {
        "id": "LKbpBAxJZnXp"
      },
      "execution_count": null,
      "outputs": []
    }
  ]
}