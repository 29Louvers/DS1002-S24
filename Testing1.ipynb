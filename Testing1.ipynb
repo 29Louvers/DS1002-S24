{
  "nbformat": 4,
  "nbformat_minor": 0,
  "metadata": {
    "colab": {
      "provenance": [],
      "authorship_tag": "ABX9TyP80uWfFNXyFDsECbwHnIFx",
      "include_colab_link": true
    },
    "kernelspec": {
      "name": "python3",
      "display_name": "Python 3"
    },
    "language_info": {
      "name": "python"
    }
  },
  "cells": [
    {
      "cell_type": "markdown",
      "metadata": {
        "id": "view-in-github",
        "colab_type": "text"
      },
      "source": [
        "<a href=\"https://colab.research.google.com/github/aaron-abrams-uva/DS1002-S24/blob/main/Testing1.ipynb\" target=\"_parent\"><img src=\"https://colab.research.google.com/assets/colab-badge.svg\" alt=\"Open In Colab\"/></a>"
      ]
    },
    {
      "cell_type": "markdown",
      "source": [
        "When you set up your repository, you have various options.\n",
        "I recommend making it Private.\n",
        "I think I said this incorrectly in class.\n",
        "\n",
        "If it is public, it will be viewable by anyone on the web.  If it is private it will be generally hidden (not searchable) but you can still share it.  This is more appropriate for classwork, I think.\n",
        "\n"
      ],
      "metadata": {
        "id": "HWBzOXdDHufu"
      }
    },
    {
      "cell_type": "code",
      "execution_count": null,
      "metadata": {
        "id": "JPa7UH54HrYS"
      },
      "outputs": [],
      "source": []
    }
  ]
}